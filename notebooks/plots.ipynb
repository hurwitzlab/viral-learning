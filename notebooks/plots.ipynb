{
 "cells": [
  {
   "cell_type": "code",
   "execution_count": null,
   "metadata": {},
   "outputs": [],
   "source": [
    "import matplotlib.pyplot as plt\n",
    "import matplotlib.ticker as ticker\n",
    "\n",
    "import pandas as pd\n",
    "\n",
    "%matplotlib inline"
   ]
  },
  {
   "cell_type": "code",
   "execution_count": null,
   "metadata": {},
   "outputs": [],
   "source": [
    "training_df = pd.read_table('../vl/model/layers/minty/training_accuracy_loss.tab', index_col=0)\n",
    "training_df.head()"
   ]
  },
  {
   "cell_type": "code",
   "execution_count": null,
   "metadata": {},
   "outputs": [],
   "source": [
    "validation_df = pd.read_table('../vl/model/layers/minty/validation_accuracy_loss.tab', index_col=0)\n",
    "validation_df.head()"
   ]
  },
  {
   "cell_type": "code",
   "execution_count": null,
   "metadata": {},
   "outputs": [],
   "source": [
    "model_names = {h.split()[1] for h in training_df.columns}\n",
    "\n",
    "for model_name in model_names:\n",
    "    fig, ax1 = plt.subplots()\n",
    "    legend = []\n",
    "    for loss_column in [column for column in training_df.columns if 'loss' in column and model_name in column]:\n",
    "        print('training loss column: {}'.format(loss_column))\n",
    "        ax1.plot(training_df.index, training_df.loc[:, loss_column], color='tab:blue', alpha=0.8)\n",
    "        legend.append('loss')\n",
    "    for loss_column in [column for column in validation_df.columns if 'loss' in column and model_name in column]:\n",
    "        print('validation loss column: {}'.format(loss_column))\n",
    "        ax1.plot(validation_df.index, validation_df.loc[:, loss_column], color='tab:orange', alpha=0.8)\n",
    "        legend.append('val_loss')\n",
    "    ax1.set_title(model_name)\n",
    "    ax1.set_xlabel('epoch')\n",
    "    tick_spacing=80\n",
    "    ax1.xaxis.set_major_locator(ticker.MultipleLocator(tick_spacing))\n",
    "    ax1.set_xticklabels([0] + list(range(3)))\n",
    "    ax1.set_ylabel('loss')\n",
    "    ax1.legend(legend, loc=3)\n",
    "    \n",
    "    ax2 = ax1.twinx()\n",
    "    legend = []\n",
    "    for acc_column in [column for column in training_df.columns if 'acc' in column and model_name in column]:\n",
    "        print('training acc column: {}'.format(acc_column))\n",
    "        ax2.plot(training_df.index, training_df.loc[:, acc_column], color='tab:purple', alpha=0.8)\n",
    "        legend.append('acc')\n",
    "    for acc_column in [column for column in validation_df.columns if 'acc' in column and model_name in column]:\n",
    "        print('validation acc column: {}'.format(acc_column))\n",
    "        ax2.plot(validation_df.index, validation_df.loc[:, acc_column], color='xkcd:dark yellow', alpha=0.8)\n",
    "        legend.append('val_acc')\n",
    "    ax2.set_ylim(0.0, 1.0)\n",
    "    #ax2.set_xlabel('epoch')\n",
    "    #ax2.set_xticklabels(range(10))\n",
    "    ax2.set_ylabel('accuracy')\n",
    "    print(legend)\n",
    "    ax2.legend(legend, loc=7)\n"
   ]
  },
  {
   "cell_type": "code",
   "execution_count": null,
   "metadata": {},
   "outputs": [],
   "source": []
  }
 ],
 "metadata": {
  "language_info": {
   "name": "python",
   "pygments_lexer": "ipython3"
  }
 },
 "nbformat": 4,
 "nbformat_minor": 2
}
