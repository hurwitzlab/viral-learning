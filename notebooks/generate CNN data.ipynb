{
 "cells": [
  {
   "cell_type": "code",
   "execution_count": null,
   "metadata": {},
   "outputs": [],
   "source": [
    "import os.path\n",
    "import time\n",
    "\n",
    "from Bio import SeqIO\n",
    "import h5py\n",
    "import numpy as np"
   ]
  },
  {
   "cell_type": "code",
   "execution_count": null,
   "metadata": {},
   "outputs": [],
   "source": [
    "input_fp = '/home/jklynch/host/project/viral-learning/data/500_ArcPhage_training_set.fasta'"
   ]
  },
  {
   "cell_type": "code",
   "execution_count": null,
   "metadata": {},
   "outputs": [],
   "source": [
    "for record in SeqIO.parse(input_fp, \"fasta\"):\n",
    "    print(record.id)\n",
    "    print(record.seq)\n",
    "    break\n"
   ]
  },
  {
   "cell_type": "markdown",
   "metadata": {},
   "source": [
    "## make a 2D sequence\n",
    "\n",
    "From a sequence of N base pairs like (N=10)\n",
    "```\n",
    "ATGAGTTCTG\n",
    "```\n",
    "create a 2D sequence with height N-M+1 and width M like this (N=10, M=5)\n",
    "```\n",
    "  ATGAG\n",
    "  TGAGT\n",
    "  GAGTT\n",
    "  AGTTC\n",
    "  GTTCT\n",
    "  TTCTG\n",
    "```\n",
    "\n",
    "Start by generating start:stop indices like this:\n",
    "```\n",
    "  0:5  (0,5) + 0\n",
    "  1:6  (0,5) + 1\n",
    "  2:7  (0,5) + 2\n",
    "  ...\n",
    "```\n",
    "\n",
    "Use a numpy array\n",
    "```\n",
    "start_stop = np.zeros((6,2))\n",
    "           -> [[0 0]\n",
    "               [0 0]\n",
    "               [0 0]\n",
    "               [0 0]\n",
    "               [0 0]\n",
    "               [0 0]]\n",
    "start_stop[:, 1] = 5\n",
    "start_stop -> [[0 5]\n",
    "               [0 5]\n",
    "               [0 5]\n",
    "               [0 5]\n",
    "               [0 5]\n",
    "               [0 5]]\n",
    "start_stop = start_stop + np.arange(start_stop.shape[1]).reshape(5,1)\n",
    "start_stop -> [[0 5]\n",
    "               [1 6]\n",
    "               [2 7]\n",
    "               [3 8]\n",
    "               [4 9]\n",
    "               [5 10]]\n",
    "```"
   ]
  },
  {
   "cell_type": "code",
   "execution_count": null,
   "metadata": {},
   "outputs": [],
   "source": [
    "def get_start_stop(N, M):\n",
    "    #N = 10\n",
    "    #M = 5\n",
    "    start_stop = np.zeros((N-M+1,2), dtype=np.int64)\n",
    "    start_stop[:, 1] = M\n",
    "    start_stop = start_stop + np.arange(N-M+1, dtype=np.int64).reshape((N-M+1,1))\n",
    "    return start_stop"
   ]
  },
  {
   "cell_type": "code",
   "execution_count": null,
   "metadata": {},
   "outputs": [],
   "source": [
    "get_start_stop(N=11, M=10)"
   ]
  },
  {
   "cell_type": "markdown",
   "metadata": {},
   "source": [
    "Use get_start_stop() to generate the 2D sequence."
   ]
  },
  {
   "cell_type": "code",
   "execution_count": null,
   "metadata": {},
   "outputs": [],
   "source": [
    "def get_2D_sequence(seq, M):\n",
    "    seq_2d = []\n",
    "    for start, stop in get_start_stop(N=len(seq), M=M):\n",
    "        seq_2d.append(seq[start:stop])\n",
    "    return seq_2d"
   ]
  },
  {
   "cell_type": "code",
   "execution_count": null,
   "metadata": {},
   "outputs": [],
   "source": [
    "seq_2D = get_2D_sequence(str(record.seq[0:11]), M=10)\n",
    "print('seq_2d len: {}'.format(len(seq_2D)))\n",
    "seq_2D"
   ]
  },
  {
   "cell_type": "markdown",
   "metadata": {},
   "source": [
    "## generate numerical data\n",
    "\n",
    "Use 5 channels, one for each nucleotide.\n",
    "```\n",
    "  d = np.zeros(S, N-M+1, M, 4)\n",
    "```\n",
    "where S is the number of samples.\n",
    "\n",
    "Create a dictionary to map A,C,G,T,U to channels 0,1,2,3,4:\n",
    "```\n",
    "  {A:0, C:1, G:2, T:3}\n",
    "```"
   ]
  },
  {
   "cell_type": "code",
   "execution_count": null,
   "metadata": {},
   "outputs": [],
   "source": [
    "def translate_seq_to_input(seq, M, verbose=False):\n",
    "    nucleotide_to_channels = {\n",
    "        'A':[1.00, 0.00, 0.00, 0.00, 0.00],\n",
    "        'C':[0.00, 1.00, 0.00, 0.00, 0.00],\n",
    "        'G':[0.00, 0.00, 1.00, 0.00, 0.00],\n",
    "        'T':[0.00, 0.00, 0.00, 1.00, 0.00],\n",
    "        'U':[0.00, 0.00, 0.00, 0.00, 0.00],\n",
    "        'N':[0.20, 0.20, 0.20, 0.20, 0.20],\n",
    "        'R':[0.50, 0.00, 0.50, 0.00, 0.00],\n",
    "        'M':[0.50, 0.50, 0.00, 0.00, 0.00], # A or C\n",
    "        'S':[0.00, 0.50, 0.50, 0.00, 0.00], # C or G\n",
    "        'K':[0.00, 0.00, 0.333, 0.333, 0.333], # G, T, or U\n",
    "        'W':[0.333, 0.00, 0.00, 0.333, 0.333], # A, T, or U\n",
    "        'Y':[0.00, 0.333, 0.00, 0.333, 0.333]} # C, T, ur U\n",
    "    ##S = 1\n",
    "    N = len(seq)\n",
    "    ##M = 100\n",
    "    input_data = np.zeros((N-M+1, M, 5))\n",
    "    for start, partial_seq in enumerate(get_2D_sequence(seq, M=M)):\n",
    "        #print(partial_seq)\n",
    "        for n, nucleotide in enumerate(partial_seq):\n",
    "            input_data[start, n, :] = nucleotide_to_channels[nucleotide]\n",
    "        if verbose:\n",
    "            print(partial_seq)\n",
    "            print(input_data[start, :, :])\n",
    "\n",
    "    return input_data\n"
   ]
  },
  {
   "cell_type": "code",
   "execution_count": null,
   "metadata": {},
   "outputs": [],
   "source": [
    "S = 1\n",
    "seq = str(record.seq[0:11])\n",
    "N = len(seq)\n",
    "M = 10\n",
    "seq_2d = get_2D_sequence(seq=seq, M=M)\n",
    "print('length of seq_2d: {}'.format(len(seq_2d)))\n",
    "print('seq_2d:\\n{}'.format(seq_2d))\n",
    "d = np.zeros((S, N-M+1, M, 5))\n",
    "print('d.shape: {}'.format(d.shape))\n",
    "d[0, :, :, :] = translate_seq_to_input(seq=seq, M=M, verbose=True)"
   ]
  },
  {
   "cell_type": "markdown",
   "metadata": {},
   "source": [
    "## Write H5 file\n",
    "Everybody is doing it."
   ]
  },
  {
   "cell_type": "code",
   "execution_count": null,
   "metadata": {},
   "outputs": [],
   "source": [
    "def write_2d_seq_h5_file(input_seq_fp, output_h5_fp, M):\n",
    "    with h5py.File(output_h5_fp, 'w') as h5_file:\n",
    "\n",
    "        # write a dataset to h5_file with these dimensions:\n",
    "        #   (None, N-M+1, M, 4)\n",
    "        #\n",
    "        # where \n",
    "        #   None indicates an arbitrary number of sequences\n",
    "        #   N is the length of each sequence in seq_fp\n",
    "        #   M is the width of each 2d sequence 'image'\n",
    "\n",
    "        # read the first sequence to get its length\n",
    "        sample_count = 0\n",
    "        for record in SeqIO.parse(input_seq_fp, \"fasta\"):\n",
    "            if sample_count == 0:\n",
    "                first_seq = str(record.seq)\n",
    "            sample_count += 1\n",
    "        print('found {} sequences in {}'.format(sample_count, input_seq_fp))\n",
    "\n",
    "        N = len(first_seq)\n",
    "\n",
    "        seq_2d_dset = h5_file.create_dataset(\n",
    "            name=os.path.basename(input_seq_fp),\n",
    "            shape=(sample_count, N-M+1, M, 5),\n",
    "            maxshape=(None, N-M+1, M, 5),\n",
    "            dtype=np.float64,\n",
    "            chunks=(1, N-M+1, M, 5),\n",
    "            compression='gzip',\n",
    "            compression_opts=9)\n",
    "\n",
    "        for r, record in enumerate(SeqIO.parse(input_seq_fp, \"fasta\")):\n",
    "            if len(record.seq) != 500:\n",
    "                print('{} record.seq length: {}'.format(r, len(record.seq)))\n",
    "            else:\n",
    "                t0 = time.time()\n",
    "                seq_2d_dset[r, :, :, :] = translate_seq_to_input(seq=str(record.seq), M=M)\n",
    "                print('finished record {} in {:5.2f}s'.format(r, time.time()-t0))\n"
   ]
  },
  {
   "cell_type": "code",
   "execution_count": null,
   "metadata": {},
   "outputs": [],
   "source": [
    "input_basename, ext = os.path.splitext(os.path.basename(input_fp))\n",
    "print(input_basename)\n",
    "\n",
    "write_2d_seq_h5_file(input_seq_fp=input_fp, output_h5_fp=input_basename + '.h5', M=100)"
   ]
  },
  {
   "cell_type": "code",
   "execution_count": null,
   "metadata": {},
   "outputs": [],
   "source": []
  }
 ],
 "metadata": {
  "language_info": {
   "name": "python",
   "pygments_lexer": "ipython3"
  }
 },
 "nbformat": 4,
 "nbformat_minor": 2
}
