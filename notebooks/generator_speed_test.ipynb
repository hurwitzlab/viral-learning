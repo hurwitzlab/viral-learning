{
 "cells": [
  {
   "cell_type": "code",
   "execution_count": null,
   "metadata": {},
   "outputs": [],
   "source": [
    "import time\n",
    "\n",
    "import h5py\n",
    "import numpy as np\n",
    "\n",
    "from vl.data import load_kmer_range_batches_h5, load_kmer_random_batches_h5"
   ]
  },
  {
   "cell_type": "code",
   "execution_count": null,
   "metadata": {},
   "outputs": [],
   "source": [
    "# speed test\n",
    "def speed_test(gen, test_name):\n",
    "    print('begin test \"{}\"'.format(test_name))\n",
    "    t0 = time.time()\n",
    "    for batch, labels, step, epoch in gen1:\n",
    "        if epoch == 2:\n",
    "            break\n",
    "        else:\n",
    "            step_count = step\n",
    "    t1 = time.time()\n",
    "    print('finished test \"{}\"'.format(test_name))\n",
    "    print('  {} steps'.format(step_count))\n",
    "    print('  {:5.2f}ms per step'.format((t1-t0)*1000/step_count))\n",
    "    print('  finished in {:5.2f}s'.format(t1-t0))"
   ]
  },
  {
   "cell_type": "code",
   "execution_count": null,
   "metadata": {},
   "outputs": [],
   "source": [
    "# 84ms per step\n",
    "# 89ms per step separate arrays\n",
    "with h5py.File('../data/training_testing.h5') as input_file:\n",
    "    dset1 = input_file['/clean-bact/training1/extract/kmers/kmer_file1']\n",
    "    dset2 = input_file['/clean-vir/training1/extract/kmers/kmer_file1']\n",
    "\n",
    "    half_batch_size = 50\n",
    "\n",
    "    gen1 = load_kmer_range_batches_h5(\n",
    "        name='range shuffled',\n",
    "        bacteria_dset=dset1,\n",
    "        virus_dset=dset2,\n",
    "        bacteria_range=(0, 10000),\n",
    "        virus_range=(0, 10000),\n",
    "        half_batch_size=half_batch_size,\n",
    "        shuffle_batch=True,\n",
    "        yield_state=True)\n",
    "\n",
    "    speed_test(gen1, 'range shuffled')\n"
   ]
  },
  {
   "cell_type": "code",
   "execution_count": null,
   "metadata": {},
   "outputs": [],
   "source": [
    "# 82ms per step\n",
    "# 81ms per step separate arrays\n",
    "with h5py.File('../data/training_testing.h5') as input_file:\n",
    "    dset1 = input_file['/clean-bact/training1/extract/kmers/kmer_file1']\n",
    "    dset2 = input_file['/clean-vir/training1/extract/kmers/kmer_file1']\n",
    "\n",
    "    half_batch_size = 50\n",
    "\n",
    "    gen1 = load_kmer_range_batches_h5(\n",
    "        name='range unshuffled',\n",
    "        bacteria_dset=dset1,\n",
    "        virus_dset=dset2,\n",
    "        bacteria_range=(0, 10000),\n",
    "        virus_range=(0, 10000),\n",
    "        half_batch_size=half_batch_size,\n",
    "        shuffle_batch=False,\n",
    "        yield_state=True)\n",
    "\n",
    "    speed_test(gen1, 'range unshuffled')\n"
   ]
  },
  {
   "cell_type": "code",
   "execution_count": null,
   "metadata": {},
   "outputs": [],
   "source": [
    "# 501ms per step using read_direct with one array for bacteria and virus\n",
    "# 561ms per step using read_direct with separate arrays for bacteria and virus\n",
    "with h5py.File('../data/training_testing.h5') as input_file:\n",
    "    dset1 = input_file['/clean-bact/training1/extract/kmers/kmer_file1']\n",
    "    dset2 = input_file['/clean-vir/training1/extract/kmers/kmer_file1']\n",
    "\n",
    "    half_batch_size = 50\n",
    "\n",
    "    gen1 = load_kmer_random_batches_h5(\n",
    "        name='random shuffled',\n",
    "        bacteria_dset=dset1,\n",
    "        virus_dset=dset2,\n",
    "        bacteria_subsample=np.random.permutation(dset1.shape[0])[:10000],\n",
    "        virus_subsample=np.random.permutation(dset2.shape[0])[:10000],\n",
    "        half_batch_size=half_batch_size,\n",
    "        shuffle_batch=True,\n",
    "        yield_state=True)\n",
    "\n",
    "    speed_test(gen1, 'random shuffled')\n"
   ]
  },
  {
   "cell_type": "code",
   "execution_count": null,
   "metadata": {},
   "outputs": [],
   "source": [
    "# a little test for the generator\n",
    "def test_generator():\n",
    "    with h5py.File('../data/test_generator_data.h5', 'w') as test_data:\n",
    "        dset1_shape = (12, 2)\n",
    "        dset1 = test_data.create_dataset('/test/data1', dset1_shape)\n",
    "        dset1[:, :] = np.arange(np.product(dset1_shape)).reshape(dset1_shape)\n",
    "        \n",
    "        dset2_shape = (10, 2)\n",
    "        dset2 = test_data.create_dataset('/test/data2', dset2_shape)\n",
    "        dset2[:, :] = np.arange(np.product(dset2_shape)).reshape(dset2_shape) + np.product(dset2_shape)\n",
    "        \n",
    "    with h5py.File('../data/test_generator_data.h5') as test_data:\n",
    "        dset1 = test_data['/test/data1']\n",
    "        print('{}:\\n{}'.format(dset1.name, dset1[:]))\n",
    "        print()\n",
    "        dset2 = test_data['/test/data2']\n",
    "        print('{}:\\n{}'.format(dset2.name, dset2[:]))\n",
    "        print()\n",
    "    \n",
    "    # return 3 batches of 5 samples from each of 2 datasets without shuffling\n",
    "    with h5py.File('../data/test_generator_data.h5') as test_data:\n",
    "        dset1 = test_data['/test/data1']\n",
    "        dset2 = test_data['/test/data2']\n",
    "\n",
    "        gen1 = load_kmer_random_batches_h5(\n",
    "            name='gen1',\n",
    "            bacteria_dset=dset1,\n",
    "            virus_dset=dset2,\n",
    "            bacteria_subsample=np.arange(dset1.shape[0]),\n",
    "            virus_subsample=np.arange(dset2.shape[0]),\n",
    "            half_batch_size=5,\n",
    "            shuffle_batch=False)\n",
    "        \n",
    "        stuff = gen1.__next__()\n",
    "        print('stuff:\\n{}'.format(stuff))\n",
    "        \n",
    "        #for batch, labels in gen1:\n",
    "        #    if epoch == 2 and step == 2:\n",
    "        #        break\n",
    "        #    else:\n",
    "        #        print('batch {}:'.format(step))\n",
    "        #        print(np.hstack((batch, labels)))\n",
    "                \n",
    "        gen2 = load_kmer_random_batches_h5(\n",
    "            name='gen2',\n",
    "            bacteria_dset=dset1,\n",
    "            virus_dset=dset2,\n",
    "            bacteria_subsample=[11, 10, 9, 8, 7, 6, 5, 4, 3, 2, 1],\n",
    "            virus_subsample=np.arange(dset2.shape[0]),\n",
    "            half_batch_size=5,\n",
    "            shuffle_batch=False,\n",
    "            yield_state=True)\n",
    "        \n",
    "        for batch, labels, step, epoch in gen2:\n",
    "            if epoch == 2 and step == 2:\n",
    "                break\n",
    "            else:\n",
    "                print('batch {}:'.format(step))\n",
    "                print(np.hstack((batch, labels)))\n"
   ]
  },
  {
   "cell_type": "code",
   "execution_count": null,
   "metadata": {},
   "outputs": [],
   "source": [
    "test_generator()"
   ]
  },
  {
   "cell_type": "code",
   "execution_count": null,
   "metadata": {},
   "outputs": [],
   "source": [
    "import sklearn.utils"
   ]
  },
  {
   "cell_type": "code",
   "execution_count": null,
   "metadata": {},
   "outputs": [],
   "source": [
    "batch = np.arange(25).reshape((5, 5))\n",
    "labels = np.arange(5).reshape((5,1))"
   ]
  },
  {
   "cell_type": "code",
   "execution_count": null,
   "metadata": {},
   "outputs": [],
   "source": [
    "batch"
   ]
  },
  {
   "cell_type": "code",
   "execution_count": null,
   "metadata": {},
   "outputs": [],
   "source": [
    "labels"
   ]
  },
  {
   "cell_type": "code",
   "execution_count": null,
   "metadata": {},
   "outputs": [],
   "source": [
    "sbatch, slabels = sklearn.utils.shuffle(batch, labels)"
   ]
  },
  {
   "cell_type": "code",
   "execution_count": null,
   "metadata": {},
   "outputs": [],
   "source": [
    "sbatch"
   ]
  },
  {
   "cell_type": "code",
   "execution_count": null,
   "metadata": {},
   "outputs": [],
   "source": [
    "slabels"
   ]
  },
  {
   "cell_type": "code",
   "execution_count": null,
   "metadata": {},
   "outputs": [],
   "source": [
    "labels"
   ]
  },
  {
   "cell_type": "code",
   "execution_count": null,
   "metadata": {},
   "outputs": [],
   "source": [
    "np.all(labels == [[0], [1], [2], [3], [4]])"
   ]
  },
  {
   "cell_type": "code",
   "execution_count": null,
   "metadata": {},
   "outputs": [],
   "source": [
    "batch[(1, 0), :]"
   ]
  },
  {
   "cell_type": "code",
   "execution_count": null,
   "metadata": {},
   "outputs": [],
   "source": []
  }
 ],
 "metadata": {
  "language_info": {
   "name": "python",
   "pygments_lexer": "ipython3"
  }
 },
 "nbformat": 4,
 "nbformat_minor": 2
}
