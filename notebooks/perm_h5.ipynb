{
 "cells": [
  {
   "cell_type": "code",
   "execution_count": null,
   "metadata": {},
   "outputs": [],
   "source": [
    "import os.path\n",
    "import time\n",
    "\n",
    "import h5py\n",
    "\n",
    "import matplotlib.pyplot as plt\n",
    "\n",
    "%matplotlib inline\n",
    "\n",
    "import numpy as np"
   ]
  },
  {
   "cell_type": "code",
   "execution_count": null,
   "metadata": {},
   "outputs": [],
   "source": [
    "np.random.seed(3062018)"
   ]
  },
  {
   "cell_type": "code",
   "execution_count": null,
   "metadata": {},
   "outputs": [],
   "source": [
    "def permute_datasets(input_h5_fp, perm_h5_fp):\n",
    "    dset_paths = []\n",
    "    def find_data(name, obj):\n",
    "        if hasattr(obj, 'dtype'):\n",
    "            print('found dataset \"{}\"'.format(name))\n",
    "            dset_paths.append(obj.name)\n",
    "        else:\n",
    "            pass\n",
    "\n",
    "    print('reading \"{}\"'.format(input_h5_fp))\n",
    "    with h5py.File(input_h5_fp, 'r', libver='latest', swmr=True) as input_h5_file:\n",
    "        print('writing permuted data to \"{}\"'.format(perm_h5_fp))\n",
    "        with h5py.File(perm_h5_fp, 'w') as perm_h5_file:\n",
    "            input_h5_file.visititems(find_data)\n",
    "\n",
    "            for dset_path in dset_paths:\n",
    "                dset = input_h5_file[dset_path]\n",
    "                print('  permuting \"{}\"'.format(dset.name))\n",
    "\n",
    "                permuted_dset = perm_h5_file.require_dataset(\n",
    "                    name=dset.name,\n",
    "                    shape=dset.shape,\n",
    "                    dtype=dset.dtype,\n",
    "                    chunks=(1, dset.shape[1]),\n",
    "                    compression='gzip',\n",
    "                    compression_opts=9)\n",
    "\n",
    "                permuted_index = np.random.permutation(dset.shape[0])\n",
    "\n",
    "                t0 = time.time()\n",
    "                n = 10000\n",
    "                for i in range(0, dset.shape[0], n):\n",
    "                    j = min(i + n, dset.shape[0])\n",
    "                    t00 = time.time()\n",
    "                    permuted_dset[i:j, :] = dset[sorted(permuted_index[i:j]), :]\n",
    "                    print('  permuted slice {}:{} in {:5.2f}s'.format(i, j, time.time()-t00))\n",
    "\n",
    "                print('permuted dset {} in {:5.2f}s'.format(dset.name, time.time()-t0))"
   ]
  },
  {
   "cell_type": "code",
   "execution_count": null,
   "metadata": {},
   "outputs": [],
   "source": [
    "input_h5_fp = '../data/training_testing.h5'\n",
    "input_h5_dp, input_h5_name = os.path.split(input_h5_fp)\n",
    "perm_h5_fp = os.path.join(input_h5_dp, 'perm_' + input_h5_name)\n",
    "permute_datasets(input_h5_fp, perm_h5_fp)"
   ]
  },
  {
   "cell_type": "code",
   "execution_count": null,
   "metadata": {},
   "outputs": [],
   "source": []
  }
 ],
 "metadata": {
  "language_info": {
   "name": "python",
   "pygments_lexer": "ipython3"
  }
 },
 "nbformat": 4,
 "nbformat_minor": 2
}
