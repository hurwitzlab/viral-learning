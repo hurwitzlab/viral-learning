{
 "cells": [
  {
   "cell_type": "markdown",
   "metadata": {},
   "source": [
    "## neural network trained on kmers using numpy\n",
    "Steps:\n",
    "1. load data\n",
    "2. find dimensions of the data\n",
    "3. standardize the data?\n",
    "4. build a model\n",
    "5. train the model"
   ]
  },
  {
   "cell_type": "code",
   "execution_count": null,
   "metadata": {},
   "outputs": [],
   "source": [
    "import gzip\n",
    "from io import StringIO\n",
    "import itertools\n",
    "\n",
    "import numpy as np\n",
    "from numpy import random\n",
    "\n",
    "import pandas as pd\n",
    "import sklearn.utils\n",
    "\n",
    "from keras.models import Sequential\n",
    "from keras.layers import Dense, Activation, Conv1D, Dropout, Embedding, GlobalMaxPooling1D\n",
    "from keras.preprocessing.text import Tokenizer"
   ]
  },
  {
   "cell_type": "markdown",
   "metadata": {},
   "source": [
    "### 1. Load Data"
   ]
  },
  {
   "cell_type": "code",
   "execution_count": null,
   "metadata": {},
   "outputs": [],
   "source": [
    "def load_kmer_batches(bacteria_kmer_fp, virus_kmer_fp, batch_size):\n",
    "\n",
    "    def not_read_type(column_name):\n",
    "        \"\"\"\n",
    "        Return True if the column name is NOT 'read_type'.\n",
    "        \"\"\"\n",
    "        return column_name != 'read_type'\n",
    "\n",
    "\n",
    "    bacteria_kmer_iter = pd.read_table(\n",
    "        filepath_or_buffer=bacteria_kmer_fp,\n",
    "        index_col=0,\n",
    "        usecols=not_read_type,\n",
    "        engine='c',\n",
    "        chunksize=batch_size)\n",
    "\n",
    "    virus_kmer_iter = pd.read_table(\n",
    "        filepath_or_buffer=virus_kmer_fp,\n",
    "        index_col=0,\n",
    "        usecols=not_read_type,\n",
    "        engine='c',\n",
    "        chunksize=batch_size)\n",
    "    \n",
    "    labels = np.vstack((np.zeros((batch_size, 1)), np.ones((batch_size, 1))))\n",
    "\n",
    "    for bacteria_batch, virus_batch in zip(bacteria_kmer_iter, virus_kmer_iter):\n",
    "        batch_df = pd.concat((bacteria_batch, virus_batch))\n",
    "        yield sklearn.utils.shuffle(batch_df, labels)\n"
   ]
  },
  {
   "cell_type": "code",
   "execution_count": null,
   "metadata": {},
   "outputs": [],
   "source": [
    "def load_kmer_batches_shuffle_labels(bacteria_kmer_fp, virus_kmer_fp, batch_size):\n",
    "    for batch_df, labels in load_kmer_batches(bacteria_kmer_fp, virus_kmer_fp, batch_size):\n",
    "        shuffled_labels = sklearn.utils.shuffle(labels)\n",
    "        yield batch_df, shuffled_labels"
   ]
  },
  {
   "cell_type": "code",
   "execution_count": null,
   "metadata": {},
   "outputs": [],
   "source": [
    "bacteria_kmer_file1_fp = '../data/bact_kmer_file1.fasta.tab.gz'\n",
    "bacteria_kmer_file2_fp = '../data/bact_kmer_file2.fasta.tab.gz'"
   ]
  },
  {
   "cell_type": "code",
   "execution_count": null,
   "metadata": {},
   "outputs": [],
   "source": [
    "virus_kmer_file1_fp = '../data/vir_kmer_file1.fasta.tab.gz'\n",
    "virus_kmer_file2_fp = '../data/vir_kmer_file2.fasta.tab.gz'"
   ]
  },
  {
   "cell_type": "code",
   "execution_count": null,
   "metadata": {},
   "outputs": [],
   "source": [
    "for batch, labels in load_kmer_batches(bacteria_kmer_file1_fp, virus_kmer_file1_fp, 10):\n",
    "    print(batch['AAAAAAAA'])\n",
    "    print(labels)\n",
    "    break"
   ]
  },
  {
   "cell_type": "code",
   "execution_count": null,
   "metadata": {},
   "outputs": [],
   "source": [
    "batch['labels'] = labels\n",
    "batch[['AAAAAAAA', 'labels']]"
   ]
  },
  {
   "cell_type": "markdown",
   "metadata": {},
   "source": [
    "### Find the dimensions of the data"
   ]
  },
  {
   "cell_type": "code",
   "execution_count": null,
   "metadata": {},
   "outputs": [],
   "source": [
    "batch_feature_count = batch.shape[1]\n",
    "batch_sample_count = batch.shape[0]\n",
    "\n",
    "print('batch feature count : {}'.format(batch_feature_count))\n",
    "print('batch sample count  : {}'.format(batch_sample_count))"
   ]
  },
  {
   "cell_type": "markdown",
   "metadata": {},
   "source": [
    "### 4. Build a Model"
   ]
  },
  {
   "cell_type": "code",
   "execution_count": null,
   "metadata": {},
   "outputs": [],
   "source": [
    "model = Sequential()\n",
    "model.add(Dense(8, activation='relu', input_dim=batch_feature_count))\n",
    "model.add(Dense(1, activation='sigmoid'))\n",
    "\n",
    "model.compile(optimizer='adam',\n",
    "              loss='binary_crossentropy',\n",
    "              metrics=['accuracy'])\n"
   ]
  },
  {
   "cell_type": "markdown",
   "metadata": {},
   "source": [
    "### 5. Train the Model"
   ]
  },
  {
   "cell_type": "code",
   "execution_count": null,
   "metadata": {},
   "outputs": [],
   "source": [
    "d = {'col1': [1, 2], 'col2': [3, 4]}\n",
    "df = pd.DataFrame(data=d)\n",
    "df"
   ]
  },
  {
   "cell_type": "code",
   "execution_count": null,
   "metadata": {},
   "outputs": [],
   "source": [
    "sdf1, sdf2 = sklearn.utils.shuffle(df, df)\n",
    "print(sdf1)\n",
    "print(sdf2)"
   ]
  },
  {
   "cell_type": "code",
   "execution_count": null,
   "metadata": {},
   "outputs": [],
   "source": [
    "# train with shuffled labels as sanity check\n",
    "model.fit_generator(\n",
    "    generator=load_kmer_batches_shuffle_labels(bacteria_kmer_file1_fp, virus_kmer_file1_fp, 16),\n",
    "    steps_per_epoch=10,\n",
    "    verbose=1,\n",
    "    workers=2)"
   ]
  },
  {
   "cell_type": "code",
   "execution_count": null,
   "metadata": {},
   "outputs": [],
   "source": []
  }
 ],
 "metadata": {
  "language_info": {
   "name": "python",
   "pygments_lexer": "ipython3"
  }
 },
 "nbformat": 4,
 "nbformat_minor": 2
}
