{
 "cells": [
  {
   "cell_type": "markdown",
   "metadata": {},
   "source": [
    "## neural network trained on kmers loaded from H5 file\n",
    "Steps:\n",
    "1. load data\n",
    "2. find dimensions of the data\n",
    "3. standardize the data?\n",
    "4. build a model\n",
    "5. train the model"
   ]
  },
  {
   "cell_type": "code",
   "execution_count": null,
   "metadata": {},
   "outputs": [],
   "source": [
    "import gzip\n",
    "from io import StringIO\n",
    "import itertools\n",
    "\n",
    "import h5py\n",
    "import numpy as np\n",
    "from numpy import random\n",
    "\n",
    "import pandas as pd\n",
    "import sklearn.utils\n",
    "\n",
    "from keras.models import Sequential\n",
    "from keras.layers import Dense, Activation"
   ]
  },
  {
   "cell_type": "markdown",
   "metadata": {},
   "source": [
    "### 1. Load Data"
   ]
  },
  {
   "cell_type": "code",
   "execution_count": null,
   "metadata": {},
   "outputs": [],
   "source": [
    "bacteria_dataset_shape = (100, 32000)\n",
    "batch_size = 8\n",
    "list(range(0, bacteria_dataset_shape[0], batch_size))"
   ]
  },
  {
   "cell_type": "code",
   "execution_count": null,
   "metadata": {},
   "outputs": [],
   "source": [
    "def load_kmer_batches_h5(bacteria_kmer_fp, virus_kmer_fp, batch_size):\n",
    "\n",
    "    with h5py.File(bacteria_kmer_fp, 'r') as bacteria_file, h5py.File(virus_kmer_fp, 'r') as virus_file:\n",
    "        bacteria_dataset = bacteria_file['bacteria']\n",
    "        virus_dataset = virus_file['virus']\n",
    "\n",
    "        bacteria_batch = np.zeros((batch_size, bacteria_dataset.shape[1]))\n",
    "        virus_batch = np.zeros((batch_size, virus_dataset.shape[1]))\n",
    "        print('kmer batch shape is {}'.format((bacteria_batch.shape[0] * 2, bacteria_batch.shape[1])))\n",
    "        \n",
    "        # bacteria label is 0\n",
    "        # virus label is 1\n",
    "        labels = np.vstack((np.zeros((batch_size, 1)), np.ones((batch_size, 1))))\n",
    "\n",
    "        for n in range(0, bacteria_dataset.shape[0], batch_size):\n",
    "            source_slice = np.s_[n:n+batch_size, :]\n",
    "            bacteria_dataset.read_direct(bacteria_batch, source_sel=source_slice)\n",
    "            virus_dataset.read_direct(virus_batch, source_sel=source_slice)\n",
    "            batch = np.vstack((bacteria_batch, virus_batch))\n",
    "            # yeild shuffled views\n",
    "            # the source arrays are not modified\n",
    "            yield sklearn.utils.shuffle(batch, labels)\n"
   ]
  },
  {
   "cell_type": "code",
   "execution_count": null,
   "metadata": {},
   "outputs": [],
   "source": [
    "def load_kmer_batches_h5_shuffle_labels(bacteria_kmer_fp, virus_kmer_fp, batch_size):\n",
    "    for batch_df, labels in load_kmer_batches_h5(bacteria_kmer_fp, virus_kmer_fp, batch_size):\n",
    "        shuffled_labels = sklearn.utils.shuffle(labels)\n",
    "        yield batch_df, shuffled_labels"
   ]
  },
  {
   "cell_type": "code",
   "execution_count": null,
   "metadata": {},
   "outputs": [],
   "source": [
    "bacteria_kmer_file1_fp = '../data/bact_kmer_file1.h5'\n",
    "bacteria_kmer_file2_fp = '../data/bact_kmer_file2.h5'"
   ]
  },
  {
   "cell_type": "code",
   "execution_count": null,
   "metadata": {},
   "outputs": [],
   "source": [
    "virus_kmer_file1_fp = '../data/vir_kmer_file1.h5'\n",
    "virus_kmer_file2_fp = '../data/vir_kmer_file2.h5'"
   ]
  },
  {
   "cell_type": "code",
   "execution_count": null,
   "metadata": {},
   "outputs": [],
   "source": [
    "with h5py.File(bacteria_kmer_file1_fp, 'r') as bacteria_file:\n",
    "    dset = bacteria_file['bacteria']\n",
    "    print(dset.shape)"
   ]
  },
  {
   "cell_type": "code",
   "execution_count": null,
   "metadata": {},
   "outputs": [],
   "source": [
    "for batch, labels in load_kmer_batches_h5(bacteria_kmer_file1_fp, virus_kmer_file1_fp, 10):\n",
    "    print(batch[:5, :5])\n",
    "    print(labels[:5])\n",
    "    break"
   ]
  },
  {
   "cell_type": "markdown",
   "metadata": {},
   "source": [
    "### Find the dimensions of the data"
   ]
  },
  {
   "cell_type": "code",
   "execution_count": null,
   "metadata": {},
   "outputs": [],
   "source": [
    "batch_feature_count = batch.shape[1]\n",
    "batch_sample_count = batch.shape[0]\n",
    "\n",
    "print('batch feature count : {}'.format(batch_feature_count))\n",
    "print('batch sample count  : {}'.format(batch_sample_count))"
   ]
  },
  {
   "cell_type": "markdown",
   "metadata": {},
   "source": [
    "### 4. Build a Model"
   ]
  },
  {
   "cell_type": "code",
   "execution_count": null,
   "metadata": {},
   "outputs": [],
   "source": [
    "model = Sequential()\n",
    "model.add(Dense(8, activation='relu', input_dim=batch_feature_count))\n",
    "model.add(Dense(1, activation='sigmoid'))\n",
    "\n",
    "model.compile(optimizer='adam',\n",
    "              loss='binary_crossentropy',\n",
    "              metrics=['accuracy'])\n"
   ]
  },
  {
   "cell_type": "markdown",
   "metadata": {},
   "source": [
    "### 5. Train the Model"
   ]
  },
  {
   "cell_type": "code",
   "execution_count": null,
   "metadata": {},
   "outputs": [],
   "source": [
    "# train with shuffled labels as sanity check\n",
    "model.fit_generator(\n",
    "    generator=load_kmer_batches_h5_shuffle_labels(bacteria_kmer_file1_fp, virus_kmer_file1_fp, 16),\n",
    "    steps_per_epoch=10,\n",
    "    verbose=1,\n",
    "    workers=2)"
   ]
  },
  {
   "cell_type": "code",
   "execution_count": null,
   "metadata": {},
   "outputs": [],
   "source": []
  }
 ],
 "metadata": {
  "language_info": {
   "name": "python",
   "pygments_lexer": "ipython3"
  }
 },
 "nbformat": 4,
 "nbformat_minor": 2
}
