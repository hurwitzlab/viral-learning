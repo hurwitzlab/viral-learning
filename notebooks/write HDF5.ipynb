{
 "cells": [
  {
   "cell_type": "code",
   "execution_count": null,
   "metadata": {},
   "outputs": [],
   "source": [
    "import gzip\n",
    "import time\n",
    "\n",
    "import h5py\n",
    "import numpy as np"
   ]
  },
  {
   "cell_type": "code",
   "execution_count": null,
   "metadata": {},
   "outputs": [],
   "source": [
    "input_fp = '../data/bact_kmer_file1.fasta.tab.gz'\n",
    "h5_fp = '../data/bact_kmer_file1.h5'"
   ]
  },
  {
   "cell_type": "code",
   "execution_count": null,
   "metadata": {},
   "outputs": [],
   "source": [
    "with gzip.open(input_fp, 'rt') as input_file:\n",
    "    input_header = input_file.readline().strip().split('\\t')\n",
    "    first_line = input_file.readline().strip().split('\\t')\n",
    "    print('first values:')\n",
    "    print(input_header[:3])\n",
    "    print(first_line[:3])\n",
    "    print('last values:')\n",
    "    print(input_header[-3:])\n",
    "    print(first_line[-3:])\n",
    "    print(len(input_header))\n"
   ]
  },
  {
   "cell_type": "code",
   "execution_count": null,
   "metadata": {},
   "outputs": [],
   "source": [
    "def read_tsv_write_h5(tsv_fp, h5_fp, dset_name, line_count):\n",
    "    t0 = time.time()\n",
    "    with h5py.File(h5_fp, 'w') as h5_file, gzip.open(tsv_fp, 'rt') as input_file:\n",
    "        input_header = input_file.readline().strip().split('\\t')\n",
    "        # do not store the first and last columns\n",
    "        # store only kmer counts\n",
    "        # the first is a string, the last is read_type\n",
    "        dset_shape = (line_count, len(input_header)-2)\n",
    "        print('dataset shape is {}'.format(dset_shape))\n",
    "        dset = h5_file.create_dataset(\n",
    "            dset_name,\n",
    "            dset_shape,\n",
    "            # I tried np.float32 to save space but very little space was saved\n",
    "            # 139MB vs 167MB for 5000 rows\n",
    "            dtype=np.float64,\n",
    "            # write speed and compression are best with 1-row chunks?\n",
    "            chunks=(1, dset_shape[1]),\n",
    "            compression='gzip')\n",
    "        for i, line in enumerate(input_file):\n",
    "            if i >= dset.shape[0]:\n",
    "                break\n",
    "            dset[i, :] = [float(d) for d in line.strip().split('\\t')[1:-1]]\n",
    "\n",
    "        print('wrote {} rows in {:5.2f}s'.format(dset.shape[0], time.time()-t0))"
   ]
  },
  {
   "cell_type": "code",
   "execution_count": null,
   "metadata": {},
   "outputs": [],
   "source": [
    "read_tsv_write_h5(\n",
    "    '../data/bact_kmer_file1.fasta.tab.gz',\n",
    "    '../data/bact_kmer_file1.h5',\n",
    "    'bacteria',\n",
    "    5000)"
   ]
  },
  {
   "cell_type": "code",
   "execution_count": null,
   "metadata": {},
   "outputs": [],
   "source": [
    "read_tsv_write_h5(\n",
    "    '../data/bact_kmer_file2.fasta.tab.gz',\n",
    "    '../data/bact_kmer_file2.h5',\n",
    "    'bacteria',\n",
    "    5000)"
   ]
  },
  {
   "cell_type": "code",
   "execution_count": null,
   "metadata": {},
   "outputs": [],
   "source": [
    "read_tsv_write_h5(\n",
    "    '../data/vir_kmer_file1.fasta.tab.gz',\n",
    "    '../data/vir_kmer_file1.h5',\n",
    "    'virus',\n",
    "    5000)"
   ]
  },
  {
   "cell_type": "code",
   "execution_count": null,
   "metadata": {},
   "outputs": [],
   "source": [
    "read_tsv_write_h5(\n",
    "    '../data/vir_kmer_file2.fasta.tab.gz',\n",
    "    '../data/vir_kmer_file2.h5',\n",
    "    'virus',\n",
    "    5000)"
   ]
  },
  {
   "cell_type": "code",
   "execution_count": null,
   "metadata": {},
   "outputs": [],
   "source": [
    "200*16"
   ]
  },
  {
   "cell_type": "code",
   "execution_count": null,
   "metadata": {},
   "outputs": [],
   "source": [
    "5000 / 8"
   ]
  },
  {
   "cell_type": "code",
   "execution_count": null,
   "metadata": {},
   "outputs": [],
   "source": [
    "5000 / 16"
   ]
  },
  {
   "cell_type": "code",
   "execution_count": null,
   "metadata": {},
   "outputs": [],
   "source": []
  }
 ],
 "metadata": {
  "language_info": {
   "name": "python",
   "pygments_lexer": "ipython3"
  }
 },
 "nbformat": 4,
 "nbformat_minor": 2
}
