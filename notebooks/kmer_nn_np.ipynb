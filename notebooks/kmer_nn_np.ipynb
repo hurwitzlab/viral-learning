{
 "cells": [
  {
   "cell_type": "markdown",
   "metadata": {},
   "source": [
    "## neural network trained on kmers using numpy\n",
    "Steps:\n",
    "1. load data\n",
    "2. find dimensions of the data\n",
    "3. standardize the data?\n",
    "4. build a model\n",
    "5. train the model"
   ]
  },
  {
   "cell_type": "code",
   "execution_count": null,
   "metadata": {},
   "outputs": [],
   "source": [
    "import gzip\n",
    "import time\n",
    "\n",
    "from io import StringIO\n",
    "\n",
    "import numpy as np\n",
    "from numpy import random\n",
    "\n",
    "import pandas as pd\n",
    "\n",
    "from keras.models import Sequential\n",
    "from keras.layers import Dense, Activation, Conv1D, Dropout, Embedding, GlobalMaxPooling1D\n",
    "from keras.preprocessing.text import Tokenizer"
   ]
  },
  {
   "cell_type": "markdown",
   "metadata": {},
   "source": [
    "### 1. Load Data"
   ]
  },
  {
   "cell_type": "code",
   "execution_count": null,
   "metadata": {},
   "outputs": [],
   "source": [
    "def load_kmers(kmer_fp):\n",
    "    t0 = time.time()\n",
    "    kmer_df = np.genfromtxt(\n",
    "        fname=kmer_fp,\n",
    "        skip_header=1,\n",
    "        usecols=range(1, 32768),\n",
    "        max_rows=10000)\n",
    "    print('loaded \"{}\" in {:5.2f}s'.format(kmer_fp, time.time()-t0))\n",
    "    return kmer_df"
   ]
  },
  {
   "cell_type": "code",
   "execution_count": null,
   "metadata": {},
   "outputs": [],
   "source": [
    "# loaded 1000 rows in 46s\n",
    "bacteria_kmer_csv_fp = '../data/bact_kmer_file1.fasta.tab.gz'\n",
    "bacteria_kmer_array = load_kmers(kmer_fp=bacteria_kmer_csv_fp)\n",
    "bacteria_kmer_array.shape"
   ]
  },
  {
   "cell_type": "code",
   "execution_count": null,
   "metadata": {},
   "outputs": [],
   "source": [
    "virus_kmer_csv_fp = '../data/vir_kmer_file1.fasta.tab.gz'\n",
    "virus_kmer_array = load_kmers(kmer_fp=virus_kmer_csv_fp)\n",
    "virus_kmer_array.shape"
   ]
  },
  {
   "cell_type": "markdown",
   "metadata": {},
   "source": [
    "### Find the dimensions of the data"
   ]
  },
  {
   "cell_type": "code",
   "execution_count": null,
   "metadata": {},
   "outputs": [],
   "source": [
    "feature_count = bacteria_kmer_array.shape[1]\n",
    "bacteria_sample_count = bacteria_kmer_array.shape[0]\n",
    "virus_sample_count = virus_kmer_array.shape[0]\n",
    "\n",
    "print('features               : {}'.format(feature_count))\n",
    "print('bacterial sample count : {}'.format(bacteria_sample_count))\n",
    "print('viral sample count     : {}'.format(virus_sample_count))"
   ]
  },
  {
   "cell_type": "markdown",
   "metadata": {},
   "source": [
    "### 4. Build a Model"
   ]
  },
  {
   "cell_type": "code",
   "execution_count": null,
   "metadata": {},
   "outputs": [],
   "source": [
    "model = Sequential()\n",
    "model.add(Dense(32, activation='relu', input_dim=feature_count))\n",
    "model.add(Dense(1, activation='sigmoid'))\n",
    "\n",
    "model.compile(optimizer='rmsprop',\n",
    "              loss='binary_crossentropy',\n",
    "              metrics=['accuracy'])\n"
   ]
  },
  {
   "cell_type": "markdown",
   "metadata": {},
   "source": [
    "### 5. Train the Model"
   ]
  },
  {
   "cell_type": "code",
   "execution_count": null,
   "metadata": {},
   "outputs": [],
   "source": [
    "training_bacteria_kmer_array = bacteria_kmer_array.values[:500, :]\n",
    "training_bacteria_label_array = 0.0 * np.ones((training_bacteria_kmer_array.shape[0], 1))\n",
    "\n",
    "print('training bacteria kmer dim  : {}'.format(training_bacteria_kmer_array.shape))\n",
    "print('training bacteria label dim : {}'.format(training_bacteria_label_array.shape))"
   ]
  },
  {
   "cell_type": "code",
   "execution_count": null,
   "metadata": {},
   "outputs": [],
   "source": [
    "validation_bacteria_kmer_array = bacteria_kmer_array.values[500:, :]\n",
    "validation_bacteria_label_array = 0.0 * np.ones((validation_bacteria_kmer_array.shape[0], 1))\n",
    "\n",
    "print('validation bacteria kmer dim  : {}'.format(validation_bacteria_kmer_array.shape))\n",
    "print('validation bacteria label dim : {}'.format(validation_bacteria_label_array.shape))"
   ]
  },
  {
   "cell_type": "code",
   "execution_count": null,
   "metadata": {},
   "outputs": [],
   "source": [
    "training_virus_kmer_array = virus_kmer_array.values[500:, :]\n",
    "training_virus_label_array = 1.0 * np.ones((training_virus_kmer_array.shape[0], 1))\n",
    "\n",
    "print('training virus kmer dim  : {}'.format(training_virus_kmer_array.shape))\n",
    "print('training virus label dim : {}'.format(training_virus_label_array.shape))"
   ]
  },
  {
   "cell_type": "code",
   "execution_count": null,
   "metadata": {},
   "outputs": [],
   "source": [
    "validation_virus_kmer_array = virus_kmer_array.values[500:, :]\n",
    "validation_virus_label_array = 1.0 * np.ones((validation_virus_kmer_array.shape[0], 1))\n",
    "\n",
    "print('validation virus kmer dim  : {}'.format(validation_virus_kmer_array.shape))\n",
    "print('validation virus label dim : {}'.format(validation_virus_label_array.shape))"
   ]
  },
  {
   "cell_type": "code",
   "execution_count": null,
   "metadata": {},
   "outputs": [],
   "source": [
    "model.fit(np.vstack((training_bacteria_kmer_array, training_virus_kmer_array)),\n",
    "          np.vstack((training_bacteria_label_array, training_virus_label_array)),\n",
    "          batch_size=20,\n",
    "          epochs=2,\n",
    "          validation_data=(\n",
    "              np.vstack((validation_bacteria_kmer_array, validation_virus_kmer_array)),\n",
    "              np.vstack((validation_bacteria_label_array, validation_virus_label_array))))"
   ]
  },
  {
   "cell_type": "code",
   "execution_count": null,
   "metadata": {},
   "outputs": [],
   "source": []
  }
 ],
 "metadata": {
  "language_info": {
   "name": "python",
   "pygments_lexer": "ipython3"
  }
 },
 "nbformat": 4,
 "nbformat_minor": 2
}
